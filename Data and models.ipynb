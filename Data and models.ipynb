{
 "cells": [
  {
   "cell_type": "markdown",
   "metadata": {
    "id": "lw65lZFY7C4i"
   },
   "source": [
    "<h1 id=\"tocheading\">Table of Contents</h1>\n",
    "<div id=\"toc\"></div>"
   ]
  },
  {
   "cell_type": "code",
   "execution_count": null,
   "metadata": {
    "id": "Ms8PP9OX7C4s",
    "outputId": "3f79df58-dbd3-40aa-9dcf-a1fadb8f2d48"
   },
   "outputs": [],
   "source": [
    "%%javascript\n",
    "$.getScript('https://kmahelona.github.io/ipython_notebook_goodies/ipython_notebook_toc.js')"
   ]
  },
  {
   "cell_type": "code",
   "execution_count": null,
   "metadata": {
    "id": "oYTFHRlP7C4u"
   },
   "outputs": [],
   "source": [
    "# See full display of columns in dataframe for a better working flow.\n",
    "pd.set_option('display.max_columns', None)\n",
    "pd.set_option('display.max_rows', None)"
   ]
  },
  {
   "cell_type": "markdown",
   "metadata": {
    "id": "TcE_qb3I7C4u"
   },
   "source": [
    "# Libraries <a class=\"anchor\" id=\"first-bullet\"></a>"
   ]
  },
  {
   "cell_type": "code",
   "execution_count": null,
   "metadata": {
    "id": "cM7qzs487C4u"
   },
   "outputs": [],
   "source": [
    "# data processding\n",
    "from modules import *"
   ]
  },
  {
   "cell_type": "markdown",
   "metadata": {
    "id": "z8Az2ejQ7C4u"
   },
   "source": [
    "# HMDA Data Loading <a class=\"anchor\" id=\"second-bullet\"></a>"
   ]
  },
  {
   "cell_type": "code",
   "execution_count": null,
   "metadata": {
    "id": "y4Ik3GVE7C4u"
   },
   "outputs": [],
   "source": [
    "# Load the initial HMDA dataset in Calfornia, \n",
    "# with preselcted loan type (first-lien conventional) and purpose(purchase) during downloading\n",
    "y = pd.read_csv(\"/content/drive/My Drive/state_CA_loan_types_1_loan_purposes_1.csv\",\n",
    "                dtype={'applicant_ethnicity-1': 'float64','applicant_race-1': 'float64',\n",
    "                       'census_tract': 'float64','co-applicant_ethnicity-1': 'float64',\n",
    "                       'co-applicant_race-1': 'float64','loan_amount': 'float64'},low_memory = False)"
   ]
  },
  {
   "cell_type": "code",
   "execution_count": null,
   "metadata": {
    "id": "AuI2mPKusad9"
   },
   "outputs": [],
   "source": [
    "ny = pd.read_csv(\"/content/drive/My Drive/state_NY_loan_types_1_loan_purposes_1.csv\",\n",
    "                dtype={'applicant_ethnicity-1': 'float64','applicant_race-1': 'float64',\n",
    "                       'census_tract': 'float64','co-applicant_ethnicity-1': 'float64',\n",
    "                       'co-applicant_race-1': 'float64','loan_amount': 'float64'},low_memory = False)"
   ]
  },
  {
   "cell_type": "code",
   "execution_count": null,
   "metadata": {
    "id": "a5WX75Zvzw0j"
   },
   "outputs": [],
   "source": [
    "cany = pd.concat([y, ny], ignore_index=True, sort=False)\n"
   ]
  },
  {
   "cell_type": "code",
   "execution_count": null,
   "metadata": {
    "colab": {
     "base_uri": "https://localhost:8080/",
     "height": 372
    },
    "id": "j68SCQhG0CNE",
    "outputId": "e1637528-2554-4ded-c088-765a9b0de797"
   },
   "outputs": [],
   "source": [
    "cany.head()"
   ]
  },
  {
   "cell_type": "code",
   "execution_count": null,
   "metadata": {
    "id": "bF3V0d1V7C4v"
   },
   "outputs": [],
   "source": [
    "# Create a HMDA ID for each individual loan\n",
    "cany.insert(0, 'HMDA_ID', range(1, 1+ len(cany)))"
   ]
  },
  {
   "cell_type": "code",
   "execution_count": null,
   "metadata": {
    "id": "W7jBSF_h7C4v"
   },
   "outputs": [],
   "source": [
    "# read the census track to zip code crosswalk file\n",
    "equiv = pd.read_excel('/content/drive/My Drive/TRACT_ZIP_122018.xlsx')"
   ]
  },
  {
   "cell_type": "code",
   "execution_count": null,
   "metadata": {
    "colab": {
     "base_uri": "https://localhost:8080/",
     "height": 204
    },
    "id": "iFzjbWud7C4w",
    "outputId": "1a740ec0-fa2e-434c-b4ec-062a3bf9c206"
   },
   "outputs": [],
   "source": [
    "# have a quick look\n",
    "equiv.head()"
   ]
  },
  {
   "cell_type": "code",
   "execution_count": null,
   "metadata": {
    "id": "JNFNTUMa0tvV"
   },
   "outputs": [],
   "source": [
    "HMDA_CANY = pd.merge(cany,equiv,left_on='census_tract',right_on = 'tract')"
   ]
  },
  {
   "cell_type": "code",
   "execution_count": null,
   "metadata": {
    "colab": {
     "base_uri": "https://localhost:8080/",
     "height": 17
    },
    "id": "dnUfZqwK3eVL",
    "outputId": "c3d9975f-ed4e-4e06-9199-fa0db675ac0a"
   },
   "outputs": [],
   "source": [
    "HMDA_CANY.to_csv('HMDA_CA+NY_2018.csv', index=False)\n",
    "files.download('HMDA_CA+NY_2018.csv')"
   ]
  },
  {
   "cell_type": "code",
   "execution_count": null,
   "metadata": {
    "colab": {
     "base_uri": "https://localhost:8080/"
    },
    "id": "6pQ_N7Qp7C4w",
    "outputId": "ab0cc57d-9ad3-449f-d9ab-0fb358ab01c5"
   },
   "outputs": [],
   "source": [
    "len(HMDA_CANY.HMDA_ID.unique())"
   ]
  },
  {
   "cell_type": "markdown",
   "metadata": {
    "id": "STIUirs87C4w"
   },
   "source": [
    "When we look at the total number of unique HMDA_ID. We see it decrased from total amount of HMDA_ID of 1million to 690,331, \n",
    "meaning the HMDA dataset actually creates lots of one-to-many cases  when translating census track to zip codes. \n"
   ]
  },
  {
   "cell_type": "code",
   "execution_count": null,
   "metadata": {
    "id": "-52EGIjK7C4x"
   },
   "outputs": [],
   "source": [
    "# get the translation dictionary \n",
    "#equiv_dic = equiv.groupby('tract')['zip'].apply(list).to_dict()"
   ]
  },
  {
   "cell_type": "markdown",
   "metadata": {
    "id": "B39oYh377C4x"
   },
   "source": [
    "# Corelogic Dataset Loading "
   ]
  },
  {
   "cell_type": "code",
   "execution_count": null,
   "metadata": {
    "id": "0-SkQJXy7C4x"
   },
   "outputs": [],
   "source": [
    "# Load the Logic dataset updated in 2019 January\n",
    "Logic = dd.read_csv(\"/content/drive/My Drive/Recent_Origination_Firsts_201901_361.txt\",sep = '|',dtype={'cbsa': 'float64',\n",
    "       'loan_purpose': 'object','loan_type': 'object', 'maturity_date': 'float64',\n",
    "       'msa': 'float64','original_term': 'float64','origination_date': 'float64',\n",
    "       'payment_frequency': 'object','product_type': 'object','property_zip': 'object',\n",
    "       'first_payment_date': 'float64','documentation_type': 'object',\n",
    "       'gse_eligible_flag': 'object','number_of_units': 'float64'},low_memory = False)"
   ]
  },
  {
   "cell_type": "code",
   "execution_count": null,
   "metadata": {
    "id": "bnAdaWlo7C4x"
   },
   "outputs": [],
   "source": [
    "# select the California state subset \n",
    "Logic_CA=Logic[Logic.state == 'CA'].compute()"
   ]
  },
  {
   "cell_type": "code",
   "execution_count": null,
   "metadata": {
    "id": "Qkpb8hpIX6b_"
   },
   "outputs": [],
   "source": [
    "Logic_NY = Logic[Logic.state == 'NY'].compute()"
   ]
  },
  {
   "cell_type": "code",
   "execution_count": null,
   "metadata": {
    "colab": {
     "base_uri": "https://localhost:8080/"
    },
    "id": "IZWYj_yU7C4y",
    "outputId": "7718fb2b-3865-4e89-a538-0bbb9d0f4c39"
   },
   "outputs": [],
   "source": [
    "# have a look at the total number of cases in the Calornia dataset.\n",
    "# STILL HUGE!\n",
    "print(f'Number of rows: {len(Logic_CA):,}.')"
   ]
  },
  {
   "cell_type": "code",
   "execution_count": null,
   "metadata": {
    "id": "8V51myon7C4y"
   },
   "outputs": [],
   "source": [
    "# restrict it to origination year 2018\n",
    "Logic_CA_2018 = Logic_CA[Logic_CA.origination_date >= 201801]\n",
    "Logic_CA_2018 = Logic_CA_2018[Logic_CA_2018.origination_date < 201901]"
   ]
  },
  {
   "cell_type": "code",
   "execution_count": null,
   "metadata": {
    "id": "K19pVWaK7C4y"
   },
   "outputs": [],
   "source": [
    "# save CSV file for potential later resue\n",
    "Logic_CA_2018.to_csv('CA_2018_complete.csv', index=False)\n",
    "files.download('CA_2018_complete.csv')"
   ]
  },
  {
   "cell_type": "code",
   "execution_count": null,
   "metadata": {
    "id": "iY2Ni8yraGDe"
   },
   "outputs": [],
   "source": [
    "Logic_NY_2018 = Logic_NY[Logic_NY.origination_date >= 201801]\n",
    "Logic_NY_2018 = Logic_NY_2018[Logic_NY_2018.origination_date < 201901]"
   ]
  },
  {
   "cell_type": "code",
   "execution_count": null,
   "metadata": {
    "colab": {
     "base_uri": "https://localhost:8080/",
     "height": 17
    },
    "id": "o2QoZrV3ZqdG",
    "outputId": "eedbd9a2-fe76-4b6a-e128-b9b9f533f3bb"
   },
   "outputs": [],
   "source": [
    "Logic_NY_2018.to_csv('Logic_NY_2018.csv', index=False)\n",
    "files.download('Logic_NY_2018.csv')"
   ]
  },
  {
   "cell_type": "code",
   "execution_count": null,
   "metadata": {
    "id": "4jauNyFf4s3q"
   },
   "outputs": [],
   "source": [
    "core_logic_ny_2018 = pd.read_csv(\"/content/drive/My Drive/Logic_NY_2018.csv\",dtype={'cbsa': 'float64',\n",
    "       'loan_purpose': 'object','loan_type': 'object', 'maturity_date': 'float64',\n",
    "       'msa': 'float64','original_term': 'float64','origination_date': 'float64',\n",
    "       'payment_frequency': 'object','product_type': 'object','property_zip': 'object',\n",
    "       'first_payment_date': 'float64','documentation_type': 'object',\n",
    "       'gse_eligible_flag': 'object','number_of_units': 'float64'},low_memory=False)"
   ]
  },
  {
   "cell_type": "code",
   "execution_count": null,
   "metadata": {
    "id": "mR8fjjOf5ZCm"
   },
   "outputs": [],
   "source": [
    "core_logic_ca_2018 = pd.read_csv(\"/content/drive/My Drive/CA_2018_complete (1).csv\",dtype={'cbsa': 'float64',\n",
    "       'loan_purpose': 'object','loan_type': 'object', 'maturity_date': 'float64',\n",
    "       'msa': 'float64','original_term': 'float64','origination_date': 'float64',\n",
    "       'payment_frequency': 'object','product_type': 'object','property_zip': 'object',\n",
    "       'first_payment_date': 'float64','documentation_type': 'object',\n",
    "       'gse_eligible_flag': 'object','number_of_units': 'float64'},low_memory=False)"
   ]
  },
  {
   "cell_type": "code",
   "execution_count": null,
   "metadata": {
    "id": "tOA_FvQr5uqp"
   },
   "outputs": [],
   "source": [
    "core_logic_cany_2018 = pd.concat([core_logic_ny_2018, core_logic_ca_2018], ignore_index=True, sort=False)"
   ]
  },
  {
   "cell_type": "code",
   "execution_count": null,
   "metadata": {
    "id": "QdvW0B8m7C4y"
   },
   "outputs": [],
   "source": [
    "# select useful columns\n",
    "core_logic_cany_2018 = core_logic_cany_2018[['loan_id','property_zip','state','property_type','number_of_units','occupancy_type',\n",
    "                              'origination_date','sale_price','appraised_value','original_balance','original_term',\n",
    "                              'loan_purpose','loan_type','original_ltv','fico_score_at_origination','lien',\n",
    "                              'msa','loan_purpose_category','initial_interest_rate']]"
   ]
  },
  {
   "cell_type": "markdown",
   "metadata": {
    "id": "AEpJlC1y7C4z"
   },
   "source": [
    "# Data manipulation"
   ]
  },
  {
   "cell_type": "markdown",
   "metadata": {
    "id": "GvrRGtbI7C4z"
   },
   "source": [
    "## HMDA"
   ]
  },
  {
   "cell_type": "markdown",
   "metadata": {
    "id": "TiypILAQ7C4z"
   },
   "source": [
    "I further restrict the dataset to specific loan types for analysis simplicity (detailed discussion in the draft). I may explore and include more loans types in the next iteration. "
   ]
  },
  {
   "cell_type": "code",
   "execution_count": null,
   "metadata": {
    "id": "Zx9W0snn7C4z"
   },
   "outputs": [],
   "source": [
    "# HMDA loan application that were actually generated\n",
    "HMDA_originated = HMDA_CANY[HMDA_CANY.action_taken == 1]"
   ]
  },
  {
   "cell_type": "code",
   "execution_count": null,
   "metadata": {
    "id": "B_f2TYVnehMj"
   },
   "outputs": [],
   "source": [
    "rejected = HMDA_CANY[HMDA_CANY.action_taken != 1]"
   ]
  },
  {
   "cell_type": "code",
   "execution_count": null,
   "metadata": {
    "colab": {
     "base_uri": "https://localhost:8080/",
     "height": 688
    },
    "id": "OuZi-QXzeuQv",
    "outputId": "b2c707ec-f6aa-404b-8fc3-514939c0f4e5"
   },
   "outputs": [],
   "source": [
    "total = HMDA_CANY['derived_race'].value_counts()\n",
    "n_rejected = rejected['derived_race'].value_counts()\n",
    "print(reject_p)\n",
    "reject_p = np.divide(n_rejected,total)\n",
    "reject_p.plot(kind='bar')\n",
    "plt.title('Percentage of Rejection for Different Racial Groups')\n",
    "plt.xlabel('Racial Groups')\n",
    "plt.ylabel('Percentage of Rejection')\n",
    "plt.show()"
   ]
  },
  {
   "cell_type": "code",
   "execution_count": null,
   "metadata": {
    "id": "0ujPQ8sr7C4z"
   },
   "outputs": [],
   "source": [
    "# to first lien conventional loan in HMDA\n",
    "HMDA_originated_1st = HMDA_originated[HMDA_originated.derived_loan_product_type == 'Conventional:First Lien']"
   ]
  },
  {
   "cell_type": "code",
   "execution_count": null,
   "metadata": {
    "id": "KCq8lQk67C4z"
   },
   "outputs": [],
   "source": [
    "# to only single family house in HMDA\n",
    "HMDA_originated_1st = HMDA_originated_1st[HMDA_originated_1st['derived_dwelling_category']=='Single Family (1-4 Units):Site-Built']"
   ]
  },
  {
   "cell_type": "code",
   "execution_count": null,
   "metadata": {
    "id": "7rZY6t457C40"
   },
   "outputs": [],
   "source": [
    "# non-business use only\n",
    "HMDA_originated_1st = HMDA_originated_1st[HMDA_originated_1st.business_or_commercial_purpose == 2]"
   ]
  },
  {
   "cell_type": "markdown",
   "metadata": {
    "id": "dcKQr3Uf7C40"
   },
   "source": [
    "## Logic"
   ]
  },
  {
   "cell_type": "code",
   "execution_count": null,
   "metadata": {
    "id": "9vzyL2G_7C40"
   },
   "outputs": [],
   "source": [
    "# only sected conventional, first lien mortgage loans\n",
    "core_logic_cany_20181st = core_logic_cany_2018[core_logic_cany_2018.loan_type == '1']"
   ]
  },
  {
   "cell_type": "code",
   "execution_count": null,
   "metadata": {
    "id": "ZVadhrrZ7C41"
   },
   "outputs": [],
   "source": [
    "# restrict to purchase purpose only\n",
    "core_logic_cany_20181st = core_logic_cany_20181st[core_logic_cany_20181st.loan_purpose_category == 'P']"
   ]
  },
  {
   "cell_type": "code",
   "execution_count": null,
   "metadata": {
    "id": "pDFd6XWk7C41"
   },
   "outputs": [],
   "source": [
    "# drop the string in the property_zip and then change the data type to numeric form\n",
    "i = core_logic_cany_20181st[(core_logic_cany_20181st.property_zip == 'CA000')].index\n",
    "j = core_logic_cany_20181st[(core_logic_cany_20181st.property_zip == 'NY000')].index\n",
    "core_logic_cany_20181st = core_logic_cany_20181st.drop(i)\n",
    "core_logic_cany_20181st = core_logic_cany_20181st.drop(j)\n",
    "core_logic_cany_20181st['property_zip'] = pd.to_numeric(core_logic_cany_20181st['property_zip'])"
   ]
  },
  {
   "cell_type": "code",
   "execution_count": null,
   "metadata": {
    "id": "NtZi75LT7C41"
   },
   "outputs": [],
   "source": [
    "# round loan amount to the nearest 1000\n",
    "core_logic_cany_20181st['loan_rounded'] = core_logic_cany_20181st.original_balance.round(-3)"
   ]
  },
  {
   "cell_type": "code",
   "execution_count": null,
   "metadata": {
    "id": "Bz3fR7qF7C41"
   },
   "outputs": [],
   "source": [
    "# drop null values in the loan_rounded column since we will merge based on it soon\n",
    "core_logic_cany_20181st = core_logic_cany_20181st[core_logic_cany_20181st['loan_rounded'].notna()]\n",
    "# restrict the property type to single family house\n",
    "core_logic_cany_20181st = core_logic_cany_20181st[core_logic_cany_20181st['property_type']== '1']"
   ]
  },
  {
   "cell_type": "markdown",
   "metadata": {
    "id": "0nLKQmum7C42"
   },
   "source": [
    "### Merge"
   ]
  },
  {
   "cell_type": "code",
   "execution_count": null,
   "metadata": {
    "id": "v2X0_JpQ7C42"
   },
   "outputs": [],
   "source": [
    "# merge two datasets based on loan amount and zip codes\n",
    "merged = pd.merge(HMDA_originated_1st, core_logic_cany_20181st, left_on=['loan_amount','zip'],\n",
    "                  right_on = ['loan_rounded','property_zip'])"
   ]
  },
  {
   "cell_type": "code",
   "execution_count": null,
   "metadata": {
    "colab": {
     "base_uri": "https://localhost:8080/"
    },
    "id": "co_b0UDu7C42",
    "outputId": "4e565455-82fd-43c0-e156-b21e8100e211"
   },
   "outputs": [],
   "source": [
    "# We are left with almost 400,000 potential matches\n",
    "merged.info()"
   ]
  },
  {
   "cell_type": "code",
   "execution_count": null,
   "metadata": {
    "colab": {
     "base_uri": "https://localhost:8080/"
    },
    "id": "fbYVpXce7C42",
    "outputId": "3be9d47c-1544-45fc-c5c4-82cd05c937b8"
   },
   "outputs": [],
   "source": [
    "# have a look at the amount of entries with unique HMDA_ID\n",
    "len(merged.HMDA_ID.unique())"
   ]
  },
  {
   "cell_type": "code",
   "execution_count": null,
   "metadata": {
    "colab": {
     "base_uri": "https://localhost:8080/"
    },
    "id": "gtHLn3to7C43",
    "outputId": "bf00388c-4bb0-46d1-b7a3-c7cd748164de"
   },
   "outputs": [],
   "source": [
    "# have a look at the amount of entries with unique CoreLogic ID\n",
    "len(merged.loan_id.unique())"
   ]
  },
  {
   "cell_type": "code",
   "execution_count": null,
   "metadata": {
    "id": "pPhNs-y17C43"
   },
   "outputs": [],
   "source": [
    "# reorganize the merged dataset for better visualization and comparison\n",
    "merged_organized = merged[['HMDA_ID','loan_id','loan_to_value_ratio','original_ltv', 'loan_amount', 'original_balance','loan_rounded',\n",
    " 'zip', 'property_zip','property_value', 'appraised_value', 'sale_price','initial_interest_rate','interest_rate',                   \n",
    " 'state','property_type','number_of_units','occupancy_type_x','origination_date','original_term','loan_purpose_x', 'loan_type_x',\n",
    " 'fico_score_at_origination','lien','msa', 'loan_purpose_category','derived_msa-md', 'census_tract','derived_loan_product_type',\n",
    " 'derived_dwelling_category','derived_ethnicity','derived_race', 'action_taken','loan_type_y','loan_purpose_y','lien_status',\n",
    " 'business_or_commercial_purpose','loan_term','occupancy_type_y','debt_to_income_ratio','denial_reason-1','income']]"
   ]
  },
  {
   "cell_type": "markdown",
   "metadata": {
    "id": "Nma3qBDq7C49"
   },
   "source": [
    "### Filtering based on loan to value ratio"
   ]
  },
  {
   "cell_type": "code",
   "execution_count": null,
   "metadata": {
    "id": "7GDEaa2i7C4-"
   },
   "outputs": [],
   "source": [
    "# data type from object to float for the variable loan_to_value ratio.\n",
    "k = merged_organized[(merged_organized.loan_to_value_ratio == 'Exempt')].index\n",
    "merged_organized = merged_organized.drop(k)\n",
    "merged_organized['loan_to_value_ratio']= merged_organized.loan_to_value_ratio.astype(float)"
   ]
  },
  {
   "cell_type": "code",
   "execution_count": null,
   "metadata": {
    "id": "PCZDfzcp7C4-"
   },
   "outputs": [],
   "source": [
    "# calculate the differnce of ltv between HMDA and CoreLogic Dataset\n",
    "merged_organized['difference_ltv'] = abs(merged_organized['loan_to_value_ratio'] - merged_organized['original_ltv'])"
   ]
  },
  {
   "cell_type": "code",
   "execution_count": null,
   "metadata": {
    "id": "SS4CzuKl7C4-"
   },
   "outputs": [],
   "source": [
    "# filter out matches with difference larger than 1\n",
    "merged_organized_drop = merged_organized.loc[(merged_organized['difference_ltv']<1)]"
   ]
  },
  {
   "cell_type": "code",
   "execution_count": null,
   "metadata": {
    "colab": {
     "base_uri": "https://localhost:8080/",
     "height": 326
    },
    "id": "5xOnD8kP7C4-",
    "outputId": "377690e5-3cef-48ee-b924-917afbe6f832"
   },
   "outputs": [],
   "source": [
    "merged_organized_drop.head()"
   ]
  },
  {
   "cell_type": "code",
   "execution_count": null,
   "metadata": {
    "id": "_rm9ziJk7C4-"
   },
   "outputs": [],
   "source": [
    "# data type from object to float for the variable loan_term.\n",
    "j = merged_organized_drop[(merged_organized_drop.loan_term == 'Exempt')].index\n",
    "merged_organized_drop = merged_organized_drop.drop(j)\n",
    "merged_organized_drop['loan_term'] = merged_organized_drop.loan_term.astype(float)"
   ]
  },
  {
   "cell_type": "code",
   "execution_count": null,
   "metadata": {
    "id": "SFaZFWhD7C4-"
   },
   "outputs": [],
   "source": [
    "# filtering out loans that are unqual in loan terms between two datasets\n",
    "merged_organized_drop_equal = merged_organized_drop.loc[merged_organized_drop['loan_term']\n",
    "                                                        == merged_organized_drop['original_term']]"
   ]
  },
  {
   "cell_type": "markdown",
   "metadata": {
    "id": "pnriv2Lz7C4_"
   },
   "source": [
    "As we can see, these matched loans have the same loan amount, zip code,and loan term, as well as very close ltv ratios."
   ]
  },
  {
   "cell_type": "markdown",
   "metadata": {
    "id": "CZWqCxPk7C4_"
   },
   "source": [
    "### Find Non-duplicates"
   ]
  },
  {
   "cell_type": "code",
   "execution_count": null,
   "metadata": {
    "id": "DYei5X0x7C4_"
   },
   "outputs": [],
   "source": [
    "# find duplicates row based on loan_id\n",
    "duplicateRows = merged_organized_drop_equal[merged_organized_drop_equal.duplicated(['loan_id'],keep = False)]"
   ]
  },
  {
   "cell_type": "code",
   "execution_count": null,
   "metadata": {
    "colab": {
     "base_uri": "https://localhost:8080/",
     "height": 326
    },
    "id": "B-aJO8PF7C4_",
    "outputId": "8e00ed0c-9079-4a29-beab-78f2655e4c86"
   },
   "outputs": [],
   "source": [
    "duplicateRows.head()"
   ]
  },
  {
   "cell_type": "code",
   "execution_count": null,
   "metadata": {
    "id": "PsbuoWuH7C4_"
   },
   "outputs": [],
   "source": [
    "# find non-duplicates row based on loan_id\n",
    "nonduplicate_loan_id= merged_organized_drop_equal.drop_duplicates(subset=['loan_id'], keep=False)"
   ]
  },
  {
   "cell_type": "code",
   "execution_count": null,
   "metadata": {
    "colab": {
     "base_uri": "https://localhost:8080/",
     "height": 326
    },
    "id": "k-gKOF2P7C4_",
    "outputId": "c4becba5-7fd0-47c1-f994-758ebeb26e8f"
   },
   "outputs": [],
   "source": [
    "nonduplicate_loan_id.head()"
   ]
  },
  {
   "cell_type": "code",
   "execution_count": null,
   "metadata": {
    "id": "c02R9AIW7C5A"
   },
   "outputs": [],
   "source": [
    "# find non-duplicates row after soring on loan_id\n",
    "nonduplicate_final= nonduplicate_loan_id.drop_duplicates(subset=['HMDA_ID'], keep=False)"
   ]
  },
  {
   "cell_type": "code",
   "execution_count": null,
   "metadata": {
    "colab": {
     "base_uri": "https://localhost:8080/"
    },
    "id": "1XUghdY-7C5A",
    "outputId": "7424c32d-e35a-4092-edd8-2fd9eb929d11"
   },
   "outputs": [],
   "source": [
    "# look at the number of unique HMDA ID in the nonduplicate datasets\n",
    "len(nonduplicate_final.HMDA_ID.unique())"
   ]
  },
  {
   "cell_type": "code",
   "execution_count": null,
   "metadata": {
    "colab": {
     "base_uri": "https://localhost:8080/"
    },
    "id": "iM_p8KcR7C5A",
    "outputId": "2302da6c-b6f7-477c-f868-10e340f05066"
   },
   "outputs": [],
   "source": [
    "# look at the number of unique HMDA ID in the nonduplicate datasets\n",
    "len(nonduplicate_final.loan_id.unique())"
   ]
  },
  {
   "cell_type": "markdown",
   "metadata": {
    "id": "m8v0hT2K7C5A"
   },
   "source": [
    "We are confident that the nonduplicate_final are uniquely matched dataset"
   ]
  },
  {
   "cell_type": "markdown",
   "metadata": {
    "id": "recfVF277C5A"
   },
   "source": [
    "### Handle Duplicates"
   ]
  },
  {
   "cell_type": "code",
   "execution_count": null,
   "metadata": {
    "colab": {
     "base_uri": "https://localhost:8080/"
    },
    "id": "4-EB715T7C5A",
    "outputId": "8dd4775d-11fc-4fb8-f01c-0bb93b7dd2db"
   },
   "outputs": [],
   "source": [
    "# change data tyoe of interest_rate to float\n",
    "duplicateRows['interest_rate'] = duplicateRows['interest_rate'].astype(float)\n",
    "#fill the null value in the interest_rate columns with mean values in the duplicated dataset\n",
    "duplicateRows['interest_rate'].fillna((duplicateRows['interest_rate'].mean()), inplace=True)\n",
    "# calculate the interest difference between two datasets in the matched duplicates\n",
    "duplicateRows['interest_diff'] = abs(duplicateRows['initial_interest_rate'] - duplicateRows['interest_rate'])"
   ]
  },
  {
   "cell_type": "code",
   "execution_count": null,
   "metadata": {
    "id": "uDSKt-Cv7C5B"
   },
   "outputs": [],
   "source": [
    "# sort the duplication dataset based on interest rate difference, and only keep the one with smallest difference\n",
    "deplicateRows = duplicateRows.sort_values('interest_diff').drop_duplicates(subset=['loan_id'], keep='first')"
   ]
  },
  {
   "cell_type": "code",
   "execution_count": null,
   "metadata": {
    "colab": {
     "base_uri": "https://localhost:8080/"
    },
    "id": "lINiuzr77C5B",
    "outputId": "ad4400d7-779c-4209-8fad-04e38cec0c97"
   },
   "outputs": [],
   "source": [
    "# Now loan_id in Corelogic dataset are all unique in this dataset\n",
    "deplicateRows.info()"
   ]
  },
  {
   "cell_type": "code",
   "execution_count": null,
   "metadata": {
    "colab": {
     "base_uri": "https://localhost:8080/"
    },
    "id": "0bP5ZG5y7C5B",
    "outputId": "5d1aa6a7-76e4-456c-d183-32c7fdcedcd4"
   },
   "outputs": [],
   "source": [
    "len(deplicateRows.loan_id.unique())"
   ]
  },
  {
   "cell_type": "code",
   "execution_count": null,
   "metadata": {
    "id": "XJZoL6ZX7C5B"
   },
   "outputs": [],
   "source": [
    "# now processing duplicated hmda_id\n",
    "nonduplicate_hmda= deplicateRows.drop_duplicates(subset=['HMDA_ID'], keep=False)"
   ]
  },
  {
   "cell_type": "code",
   "execution_count": null,
   "metadata": {
    "colab": {
     "base_uri": "https://localhost:8080/"
    },
    "id": "WC2GQCWQ7C5B",
    "outputId": "7bce5e58-9d0b-47c6-ae95-c9ad71b272e1"
   },
   "outputs": [],
   "source": [
    "len(nonduplicate_hmda.HMDA_ID.unique())"
   ]
  },
  {
   "cell_type": "code",
   "execution_count": null,
   "metadata": {
    "colab": {
     "base_uri": "https://localhost:8080/"
    },
    "id": "UARJtDrk7C5B",
    "outputId": "2dd3bdb2-bf2c-4c5a-de8d-e70e19b39901"
   },
   "outputs": [],
   "source": [
    "len(nonduplicate_hmda.loan_id.unique())"
   ]
  },
  {
   "cell_type": "markdown",
   "metadata": {
    "id": "v8PKkOfU7C5C"
   },
   "source": [
    "### Reduce duplicates HMDA"
   ]
  },
  {
   "cell_type": "code",
   "execution_count": null,
   "metadata": {
    "id": "e9uz_Rn87C5C"
   },
   "outputs": [],
   "source": [
    "#find duplicates based on HMDA_ID\n",
    "HMDA_dupli = deplicateRows[deplicateRows.duplicated(['HMDA_ID'],keep = False)]"
   ]
  },
  {
   "cell_type": "code",
   "execution_count": null,
   "metadata": {
    "id": "-spHHUlF7C5C"
   },
   "outputs": [],
   "source": [
    "# similar approach filtering based on the interest rate differences, for each group of duplicates, only keey the\n",
    "# match with the smallest difference of interest rate\n",
    "hmda_sorted = HMDA_dupli.sort_values('interest_diff').drop_duplicates(subset=['HMDA_ID'], keep='first')"
   ]
  },
  {
   "cell_type": "code",
   "execution_count": null,
   "metadata": {
    "id": "pfe2QQ2V7C5D"
   },
   "outputs": [],
   "source": [
    "nondup = pd.concat([nonduplicate_final,nonduplicate_hmda,hmda_sorted],ignore_index=True)"
   ]
  },
  {
   "cell_type": "code",
   "execution_count": null,
   "metadata": {
    "id": "k92KCOIO7C5D"
   },
   "outputs": [],
   "source": [
    "# drop duplicated HMDA_ID based on ranks of the interest difference.\n",
    "final_matched = nondup.sort_values('interest_diff').drop_duplicates(subset=['HMDA_ID'])"
   ]
  },
  {
   "cell_type": "markdown",
   "metadata": {
    "id": "xAFrI6H37C5E"
   },
   "source": [
    "A uniquely matched dataset is finall here!"
   ]
  },
  {
   "cell_type": "markdown",
   "metadata": {
    "id": "ZbGd5pKG7C5E"
   },
   "source": [
    "### Merge with CoreLogic Performance Dataset "
   ]
  },
  {
   "cell_type": "code",
   "execution_count": null,
   "metadata": {
    "id": "tT2RJpOo7C5E"
   },
   "outputs": [],
   "source": [
    "#loan\n",
    "Performance = dd.read_csv(\"/content/drive/My Drive/Performance_Firsts_201904_364.txt\",sep = '|',\n",
    "                         dtype={'last_paid_interest_date': 'float64',\n",
    "       'loan_age': 'float64',\n",
    "       'mba_days_delinquent': 'float64',\n",
    "       'mba_worst_ever': 'float64',\n",
    "       'ots_days_delinquent': 'float64',\n",
    "       'ots_worst_ever': 'float64'},low_memory=False)"
   ]
  },
  {
   "cell_type": "code",
   "execution_count": null,
   "metadata": {
    "id": "uYUlpIbF7C5E"
   },
   "outputs": [],
   "source": [
    "# restrict loan age to shorter than 20 months, so that we can be sure it's roughly in 2018, \n",
    "# to reduce computation later during merge\n",
    "Performance = Performance[Performance.loan_age <=20].compute()"
   ]
  },
  {
   "cell_type": "code",
   "execution_count": null,
   "metadata": {
    "id": "6nR514qT7C5E"
   },
   "outputs": [],
   "source": [
    "# Final merge between matched HMDA-CoreLogic.Origination and CoreLogic.Performance datasets\n",
    "Merge_op = pd.merge(Performance,final_matched,on=['loan_id'])"
   ]
  },
  {
   "cell_type": "code",
   "execution_count": null,
   "metadata": {
    "colab": {
     "base_uri": "https://localhost:8080/"
    },
    "id": "UdAT6tF97C5F",
    "outputId": "4621644f-3a66-4995-c4e6-4faec6920f79",
    "scrolled": true
   },
   "outputs": [],
   "source": [
    "Merge_op['mba_delinquency_status'].value_counts()"
   ]
  },
  {
   "cell_type": "markdown",
   "metadata": {
    "id": "1nHRg-VG7C5F"
   },
   "source": [
    "### Comparison of matched dataset and the HMDA dataset before matching "
   ]
  },
  {
   "cell_type": "code",
   "execution_count": null,
   "metadata": {
    "colab": {
     "base_uri": "https://localhost:8080/"
    },
    "id": "7FkGHloI7C5F",
    "outputId": "b093a3fd-d319-49c6-96b4-c0e9ea402beb"
   },
   "outputs": [],
   "source": [
    "# racial percentage\n",
    "Merge_op['derived_race'].value_counts(normalize = True)"
   ]
  },
  {
   "cell_type": "code",
   "execution_count": null,
   "metadata": {
    "colab": {
     "base_uri": "https://localhost:8080/"
    },
    "id": "rkexOsKL7C5G",
    "outputId": "d0c1f352-c8cd-41e1-e7b5-7e6b4504d491"
   },
   "outputs": [],
   "source": [
    "HMDA_originated_1st['derived_race'].value_counts(normalize = True)"
   ]
  },
  {
   "cell_type": "code",
   "execution_count": null,
   "metadata": {
    "colab": {
     "base_uri": "https://localhost:8080/"
    },
    "id": "pThK3SJ97C5G",
    "outputId": "5757a7cb-f0f7-4835-9b2e-399a2cc9b0a8"
   },
   "outputs": [],
   "source": [
    "# remove extreme values and see the income statistics summary in the merged dataset\n",
    "income_merged = Merge_op['income']\n",
    "removed_outliers = income_merged.between(income_merged.quantile(.05), income_merged.quantile(.95))\n",
    "income_merged[removed_outliers].describe()"
   ]
  },
  {
   "cell_type": "code",
   "execution_count": null,
   "metadata": {
    "colab": {
     "base_uri": "https://localhost:8080/"
    },
    "id": "WgoufA287C5G",
    "outputId": "143852a1-16d4-41cf-b224-f968e859931d"
   },
   "outputs": [],
   "source": [
    "# remove extreme values and see the income statistics summary in the merged dataset\n",
    "\n",
    "HMDA_income = HMDA_originated['income']\n",
    "HMDA_outlier_removed = HMDA_income.between(HMDA_income.quantile(.05), HMDA_income.quantile(.95))\n",
    "HMDA_income[HMDA_outlier_removed].describe()"
   ]
  },
  {
   "cell_type": "code",
   "execution_count": null,
   "metadata": {
    "colab": {
     "base_uri": "https://localhost:8080/",
     "height": 338
    },
    "id": "LfHkBFfQ7C5G",
    "outputId": "0d02cf9a-ee06-4e1f-b58c-ef898f3f2bd8"
   },
   "outputs": [],
   "source": [
    "# plot historgram of distribution of income\n",
    "plt.hist([income_merged[removed_outliers],HMDA_income[HMDA_outlier_removed]],density=True)\n",
    "plt.title('Income Distribution in Merged and Original HMDA Datasets')\n",
    "plt.xlabel('Income in Thousands')\n",
    "plt.ylabel('Density')\n",
    "plt.show()"
   ]
  },
  {
   "cell_type": "code",
   "execution_count": null,
   "metadata": {
    "id": "Ros5qlZv7C5H"
   },
   "outputs": [],
   "source": [
    "black_matched = Merge_op.loc[Merge_op['derived_race'] == 'Black or African American']\n",
    "black_HMDA = HMDA_originated_1st.loc[HMDA_originated_1st['derived_race'] == 'Black or African American']"
   ]
  },
  {
   "cell_type": "code",
   "execution_count": null,
   "metadata": {
    "id": "uABCyxty7C5H"
   },
   "outputs": [],
   "source": [
    "black_matched_income = black_matched['income']\n",
    "black_HMDA_income = black_HMDA['income']\n",
    "black_matched_95 = black_matched_income.between(black_matched_income.quantile(.05), black_matched_income.quantile(.95))\n",
    "black_HMDA_income_95 = black_HMDA_income.between(black_HMDA_income.quantile(.05), black_HMDA_income.quantile(.95))"
   ]
  },
  {
   "cell_type": "code",
   "execution_count": null,
   "metadata": {
    "colab": {
     "base_uri": "https://localhost:8080/"
    },
    "id": "V3x7jj0m7C5H",
    "outputId": "e23224bc-bb91-4cc7-dd4c-2e7e921ddfa4"
   },
   "outputs": [],
   "source": [
    "black_matched_income[black_matched_95].describe()"
   ]
  },
  {
   "cell_type": "code",
   "execution_count": null,
   "metadata": {
    "colab": {
     "base_uri": "https://localhost:8080/"
    },
    "id": "d4bIRGbK7C5H",
    "outputId": "79e41b50-7d22-428a-9c97-c37d455cefd6"
   },
   "outputs": [],
   "source": [
    "black_HMDA_income[black_HMDA_income_95].describe()"
   ]
  },
  {
   "cell_type": "code",
   "execution_count": null,
   "metadata": {
    "colab": {
     "base_uri": "https://localhost:8080/",
     "height": 338
    },
    "id": "j32Gezed7C5H",
    "outputId": "30144f0b-189b-4fe2-8bed-94a0f7314271"
   },
   "outputs": [],
   "source": [
    "# plot historgram of distribution of income\n",
    "plt.hist([black_matched_income[black_matched_95],black_HMDA_income[black_HMDA_income_95]],density=True)\n",
    "plt.title('Income Distribution in Merged and Original HMDA Datasets for African Americans')\n",
    "plt.xlabel('Income in Thousands')\n",
    "plt.ylabel('Density')\n",
    "#plt.savefig('/Users/tony/Downloads/black_income.png')\n",
    "plt.show()"
   ]
  },
  {
   "cell_type": "code",
   "execution_count": null,
   "metadata": {
    "id": "UtRr-t2H7C5I"
   },
   "outputs": [],
   "source": [
    "white_matched = Merge_op.loc[Merge_op['derived_race'] == 'White']\n",
    "white_HMDA = HMDA_originated_1st.loc[HMDA_originated_1st['derived_race'] == 'White']\n",
    "white_matched_income = white_matched['income']\n",
    "white_HMDA_income = white_HMDA['income']\n",
    "white_matched_95 = white_matched_income.between(white_matched_income.quantile(.05), white_matched_income.quantile(.95))\n",
    "white_HMDA_income_95 = white_HMDA_income.between(white_HMDA_income.quantile(.05), white_HMDA_income.quantile(.95))"
   ]
  },
  {
   "cell_type": "code",
   "execution_count": null,
   "metadata": {
    "colab": {
     "base_uri": "https://localhost:8080/",
     "height": 338
    },
    "id": "YgV_F9Qg7C5I",
    "outputId": "f2ed32c5-9785-4dab-ce7b-fcb80a7f2478"
   },
   "outputs": [],
   "source": [
    "# plot historgram of distribution of income\n",
    "plt.hist([white_matched_income[white_matched_95],white_HMDA_income[white_HMDA_income_95]],density=True)\n",
    "plt.title('Income Distribution in Merged and Original HMDA Datasets for White')\n",
    "plt.xlabel('Income in Thousands')\n",
    "plt.ylabel('Density')\n",
    "#plt.savefig('/Users/tony/Downloads/white_income.png')\n",
    "plt.show()"
   ]
  },
  {
   "cell_type": "code",
   "execution_count": null,
   "metadata": {
    "id": "bBQeEMkc7C5I"
   },
   "outputs": [],
   "source": [
    "#scatter_matrix(HMDA, figsize=(10, 10))"
   ]
  },
  {
   "cell_type": "code",
   "execution_count": null,
   "metadata": {},
   "outputs": [],
   "source": [
    "# correlation matrix\n",
    "trainingsample_corr = trainingsample[['minority','rtdum','propertycounty','mi','paymentcredithistory','nounitsinproperty','dprop']]\n",
    "mask = np.triu(np.ones_like(trainingsample_corr.corr(), dtype=np.bool))\n",
    "heatmap = sns.heatmap(trainingsample_corr.corr(),vmin=-1, vmax=1,cmap='BrBG',mask=mask)\n",
    "heatmap.set_title('Triangle Correlation Heatmap Between Being Minority and Selected Covariates', fontdict={'fontsize':12}, pad=16)\n",
    "plt.savefig('heatmap_race.png', dpi=1000, bbox_inches='tight')\n",
    "plt.show()"
   ]
  },
  {
   "cell_type": "markdown",
   "metadata": {
    "id": "GTsSGP3a7C5I"
   },
   "source": [
    "## Predictive Algorithms"
   ]
  },
  {
   "cell_type": "code",
   "execution_count": null,
   "metadata": {
    "colab": {
     "base_uri": "https://localhost:8080/",
     "height": 326
    },
    "id": "q3PuUGes7C5I",
    "outputId": "c41bb21e-9561-4e2c-f622-be3a810add3c"
   },
   "outputs": [],
   "source": [
    "# have a quick look at the merged dataset\n",
    "Merge_op.head()"
   ]
  },
  {
   "cell_type": "code",
   "execution_count": null,
   "metadata": {
    "id": "UbCxgNk97C5I"
   },
   "outputs": [],
   "source": [
    "# get to know at the missing value percentage\n",
    "pd.set_option(\"display.max_columns\", 70)"
   ]
  },
  {
   "cell_type": "code",
   "execution_count": null,
   "metadata": {
    "id": "rsvQ1nrVCtY-"
   },
   "outputs": [],
   "source": [
    "percentage = pd.DataFrame(\n",
    "{\"Approved Missing No.\":Merge_op.isnull().sum(),\n",
    "\"Approved Missing %\":Merge_op.isnull().sum()/len(Merge_op)})"
   ]
  },
  {
   "cell_type": "code",
   "execution_count": null,
   "metadata": {
    "colab": {
     "base_uri": "https://localhost:8080/"
    },
    "id": "wdxl9vHwDRZr",
    "outputId": "e3354a8e-8ddc-4d12-903c-97e39b22bfd3"
   },
   "outputs": [],
   "source": [
    "print(percentage)"
   ]
  },
  {
   "cell_type": "code",
   "execution_count": null,
   "metadata": {
    "colab": {
     "base_uri": "https://localhost:8080/"
    },
    "id": "XTDCMnOlNwHl",
    "outputId": "4f521063-5d40-4a90-c397-79ef365de2cd"
   },
   "outputs": [],
   "source": [
    "from imblearn.over_sampling import SMOTE\n",
    "\n",
    "smote = SMOTE(ratio='minority')\n",
    "X_sm,y_sm = smote.fit_sample(x, y)\n",
    "print(X_sm.shape[0] - x.shape[0], 'new random picked points')"
   ]
  },
  {
   "cell_type": "markdown",
   "metadata": {
    "id": "XtfAmsKM7C5J"
   },
   "source": [
    "### Without Race Prediction on Random Forest"
   ]
  },
  {
   "cell_type": "code",
   "execution_count": null,
   "metadata": {
    "id": "lIygrN2H7C5J"
   },
   "outputs": [],
   "source": [
    "# features we want to include in predicting uses\n",
    "features = ['income','fico_score_at_origination','original_ltv','loan_amount','loan_type_x',\n",
    "             'loan_purpose_x','mba_delinquency_status','loan_term','property_value']\n",
    "# dataset with selected features\n",
    "selected = Merge_op[features]"
   ]
  },
  {
   "cell_type": "code",
   "execution_count": null,
   "metadata": {
    "colab": {
     "base_uri": "https://localhost:8080/",
     "height": 204
    },
    "id": "5yvUONNx7C5J",
    "outputId": "990dee1d-1366-48aa-dfa9-b09a93d1fc9b"
   },
   "outputs": [],
   "source": [
    "# have a quic look at the head\n",
    "selected.head()"
   ]
  },
  {
   "cell_type": "code",
   "execution_count": null,
   "metadata": {
    "colab": {
     "base_uri": "https://localhost:8080/"
    },
    "id": "m6y_zFdG7C5J",
    "outputId": "003c210a-1ea5-4cae-a85b-052ac1d900b6"
   },
   "outputs": [],
   "source": [
    "# drop null values\n",
    "nonna = selected.dropna()\n",
    "nonna.info()"
   ]
  },
  {
   "cell_type": "code",
   "execution_count": null,
   "metadata": {
    "colab": {
     "base_uri": "https://localhost:8080/"
    },
    "id": "Ehi5maK57C5L",
    "outputId": "e188ed40-d5f5-49bc-915a-f493040b1d2f"
   },
   "outputs": [],
   "source": [
    "# into two groups: delinquent nor not\n",
    "nonna['mba_delinquency_status'].replace({'3':1,'6':1,'9':1,'F':1,'C':0,'S':0,'T':1,'0':0},inplace = True)\n",
    "# features\n",
    "x = nonna[['income','fico_score_at_origination','original_ltv','loan_amount','loan_term','property_value']]\n",
    "#labels\n",
    "y = nonna['mba_delinquency_status']"
   ]
  },
  {
   "cell_type": "code",
   "execution_count": null,
   "metadata": {
    "id": "b1tKh4QjO6Wj"
   },
   "outputs": [],
   "source": [
    "x_train, x_test, y_train, y_test = train_test_split(X_sm, y_sm, test_size=0.3,random_state = 1)"
   ]
  },
  {
   "cell_type": "code",
   "execution_count": null,
   "metadata": {},
   "outputs": [],
   "source": [
    "# change datatype for model fitting in random forest\n",
    "y_train = y_train.astype(int)\n",
    "# the actual random forest model\n",
    "rf_clf = RandomForestClassifier(n_estimators=400,max_features=0.25,criterion=\"entropy\")\n",
    "pip_baseline = make_pipeline(RobustScaler(), rf_clf)\n",
    "#base line model performances\n",
    "scores = cross_val_score(pip_baseline,x_train, y_train,scoring=\"roc_auc\", cv=10)\n",
    "print(f\"Model's average AUC: {scores.mean():.3f}\")"
   ]
  },
  {
   "cell_type": "code",
   "execution_count": null,
   "metadata": {
    "id": "AzgVFdF47KNU"
   },
   "outputs": [],
   "source": [
    "# fit for feature importance\n",
    "rf_clf.fit(x_train,y_train)\n",
    "\n",
    "# Plot the features importance\n",
    "importances = rf_clf.feature_importances_\n",
    "indices = np.argsort(rf_clf.feature_importances_)[::-1]\n",
    "plt.figure(figsize=(12, 6))\n",
    "plt.bar(range(1, 7), importances[indices], align=\"center\")\n",
    "plt.xticks(range(1, 7), x.columns[indices], rotation=90)\n",
    "plt.title(\"Feature Importance\", {\"fontsize\": 16})"
   ]
  },
  {
   "cell_type": "markdown",
   "metadata": {
    "id": "hHehan5-7C5M"
   },
   "source": [
    "### Random Forest with Race"
   ]
  },
  {
   "cell_type": "code",
   "execution_count": null,
   "metadata": {
    "colab": {
     "base_uri": "https://localhost:8080/"
    },
    "id": "lEGpaG0h7C5M",
    "outputId": "b2a91c77-f3e8-48a4-86da-b0d40c7daa76"
   },
   "outputs": [],
   "source": [
    "# similar code as above, except we have now included race as a dependent vairable\n",
    "Merge_op['derived_race'] = Merge_op['derived_race'].astype('category')\n",
    "features_2 = ['income','fico_score_at_origination','original_ltv','loan_amount','loan_type_x',\n",
    "             'loan_purpose_x','mba_delinquency_status','loan_term','property_value','zip','derived_race']\n",
    "selected_2 = Merge_op[features_2]\n",
    "\n",
    "nonna_2 = selected_2.dropna()\n",
    "nonna_2['mba_delinquency_status'].replace({'3':1,'6':1,'9':1,'F':1,'C':0,'S':0,'T':1,'0':0},inplace = True)\n",
    "\n",
    "array = ['White','American Indian or Alaska Native','Black or African American','Native Hawaiian or Other Pacific Islander']\n",
    "nonna_2 = nonna_2.loc[nonna_2['derived_race'].isin(array)]\n",
    "\n",
    "nonna_2['derived_race'].replace({'White':0,'American Indian or Alaska Native':1,\n",
    "                                 'Black or African American':1,'Native Hawaiian or Other Pacific Islander':1},inplace = True)\n",
    "\n",
    "x_2= nonna_2[['income','fico_score_at_origination','original_ltv','loan_amount','loan_term','property_value','derived_race','zip']]\n",
    "feature_2 = ['income','fico_score_at_origination','original_ltv','loan_amount','loan_term','property_value','derived_race','zip']\n",
    "y_2 = nonna_2['mba_delinquency_status']"
   ]
  },
  {
   "cell_type": "code",
   "execution_count": null,
   "metadata": {
    "colab": {
     "base_uri": "https://localhost:8080/"
    },
    "id": "Q_YgXwyXPaWg",
    "outputId": "71150093-16fb-4ea6-8891-3a40aa709753"
   },
   "outputs": [],
   "source": [
    "x_2_sm,y_2_sm = smote.fit_sample(x_2, y_2)\n",
    "#ros = RandomOverSampler()\n",
    "#x_2_sm,y_2_sm = ros.fit_sample(x_2, y_2)"
   ]
  },
  {
   "cell_type": "code",
   "execution_count": null,
   "metadata": {
    "id": "wb72msgOfl9u"
   },
   "outputs": [],
   "source": [
    "#x_2[\"derived_race\"] = x_2[\"derived_race\"].cat.codes\n",
    "x_train, x_test, y_train, y_test = train_test_split(x_2_sm, y_2_sm, test_size=0.3,random_state = 1)\n",
    "y_train = y_train.astype(int)\n",
    "rf_clf = RandomForestClassifier(n_estimators=400,max_features=0.25, criterion=\"entropy\")\n",
    "#rf_clf = RandomForestClassifier(n_estimators=400,max_features=0.25, criterion=\"entropy\",class_weight=\"balanced\")"
   ]
  },
  {
   "cell_type": "code",
   "execution_count": null,
   "metadata": {
    "id": "n4bJIhBg7C5R"
   },
   "outputs": [],
   "source": [
    "# make the default status into int data type for model needs\n",
    "y_train = y_train.astype(int)\n",
    "# fit model and evaluate performances\n",
    "pip_baseline = make_pipeline(RobustScaler(), rf_clf)\n",
    "scores = cross_val_score(pip_baseline,x_train, y_train,scoring=\"roc_auc\")\n",
    "print(f\"Model's average AUC: {scores.mean():.3f}\")"
   ]
  },
  {
   "cell_type": "code",
   "execution_count": null,
   "metadata": {
    "colab": {
     "base_uri": "https://localhost:8080/",
     "height": 522
    },
    "id": "HNtv0G-i7C5R",
    "outputId": "5d2eb514-603f-4685-b74c-985513775864"
   },
   "outputs": [],
   "source": [
    "# fit RF to plot feature importances\n",
    "my_model = rf_clf.fit(x_train,y_train)\n",
    "\n",
    "# Plot features importance\n",
    "importances = rf_clf.feature_importances_\n",
    "indices = np.argsort(rf_clf.feature_importances_)[::-1]\n",
    "plt.figure(figsize=(12, 6))\n",
    "plt.bar(range(1, 9), importances[indices], align=\"center\")\n",
    "plt.xticks(range(1, 9), x_2.columns[indices], rotation=90)\n",
    "plt.title(\"Feature Importance\", {\"fontsize\": 16})\n",
    "plt.show()"
   ]
  },
  {
   "cell_type": "code",
   "execution_count": null,
   "metadata": {
    "colab": {
     "base_uri": "https://localhost:8080/",
     "height": 327
    },
    "id": "h4Ox9znCcINt",
    "outputId": "d45a68fc-cbb6-4f7d-ea21-f455d1364632"
   },
   "outputs": [],
   "source": [
    "explainer = shap.TreeExplainer(my_model)\n",
    "shap_values = explainer.shap_values(x_test)\n",
    "shap.summary_plot(shap_values[1], x_test, feature_names=feature_2)"
   ]
  },
  {
   "cell_type": "markdown",
   "metadata": {
    "id": "6HnewfAc7C5R"
   },
   "source": [
    "### Logit Regression with and without race"
   ]
  },
  {
   "cell_type": "code",
   "execution_count": null,
   "metadata": {
    "id": "7Nb44_4_7C5R"
   },
   "outputs": [],
   "source": [
    "#Standard Scaler for scaling the traininga and testing data seperately, to prevent informationl leakage\n",
    "sds = StandardScaler()\n",
    "x_train =sds.fit_transform(x_train)"
   ]
  },
  {
   "cell_type": "code",
   "execution_count": null,
   "metadata": {
    "id": "9UmiQCxu7C5S"
   },
   "outputs": [],
   "source": [
    "# the LASSO model\n",
    "glm = LogisticRegression(C=1,solver='liblinear', class_weight='balanced')\n",
    "glm.fit(x_train, y_train)\n",
    "x_test =sds.fit_transform(x_test)\n",
    "pred = glm.predict(x_test)"
   ]
  },
  {
   "cell_type": "code",
   "execution_count": null,
   "metadata": {
    "colab": {
     "base_uri": "https://localhost:8080/"
    },
    "id": "p8phae5S7C5S",
    "outputId": "8e125c2a-2cac-4894-f595-4b517c7903a5"
   },
   "outputs": [],
   "source": [
    "print (\"The accuracy score is {:.3f}\".format(accuracy_score(y_test, pred)))\n",
    "print (\"\\n\")\n",
    "print (\"Classification report:\")\n",
    "print(classification_report(y_test, pred))"
   ]
  },
  {
   "cell_type": "code",
   "execution_count": null,
   "metadata": {
    "colab": {
     "base_uri": "https://localhost:8080/",
     "height": 327
    },
    "id": "oIOfbnlY7C5S",
    "outputId": "31cf02f3-7eed-4248-b55c-c92b97ecf1cc"
   },
   "outputs": [],
   "source": [
    "# Build the confusion matrix.\n",
    "matrix = confusion_matrix(y_test, pred)\n",
    "class_names=[0,1] # name of classes\n",
    "fig, ax = plt.subplots()\n",
    "tick_marks = np.arange(len(class_names))\n",
    "plt.xticks(tick_marks, class_names)\n",
    "plt.yticks(tick_marks, class_names)\n",
    "\n",
    "# The heatmap requires that we pass in a dataframe as the argument\n",
    "sns.heatmap(pd.DataFrame(matrix), annot=True, cmap=\"YlGnBu\", fmt=\"g\")\n",
    "\n",
    "# Configure the heatmap parameters\n",
    "ax.xaxis.set_label_position(\"top\")\n",
    "plt.tight_layout()\n",
    "plt.title('Confusion matrix', y=1.1)\n",
    "plt.ylabel('Actual label')\n",
    "plt.xlabel('Predicted label')\n",
    "plt.show()"
   ]
  },
  {
   "cell_type": "code",
   "execution_count": null,
   "metadata": {
    "colab": {
     "base_uri": "https://localhost:8080/"
    },
    "id": "7xQWFjkSHDtD",
    "outputId": "fa889fee-5dbd-4de5-92f4-7342d5c755eb"
   },
   "outputs": [],
   "source": [
    "col_trans_race = ['income','fico_score_at_origination','original_ltv','loan_amount','property_value','loan_term','zip','derived_race']\n",
    "x_train[col_trans_race] =sds.fit_transform(x_train[col_trans_race])\n",
    "glm.fit(x_train, y_train)\n",
    "x_test[col_trans] =sds.fit_transform(x_test[col_trans])\n",
    "pred = glm.predict(x_test)"
   ]
  },
  {
   "cell_type": "code",
   "execution_count": null,
   "metadata": {
    "colab": {
     "base_uri": "https://localhost:8080/"
    },
    "id": "WXTM-jSWIEK_",
    "outputId": "f2fb316d-47d0-4ef7-a883-1a8fa7586b59"
   },
   "outputs": [],
   "source": [
    "print (\"The accuracy score is {:.3f}\".format(accuracy_score(y_test, pred)))\n",
    "print (\"\\n\")\n",
    "print (\"Classification report:\")\n",
    "print(classification_report(y_test, pred))\n",
    "sns.heatmap(x_train[col_trans_race].corr())\n",
    "plt.show()"
   ]
  }
 ],
 "metadata": {
  "accelerator": "GPU",
  "colab": {
   "collapsed_sections": [],
   "machine_shape": "hm",
   "name": "Copy of Capstone working notebook V5",
   "provenance": []
  },
  "kernelspec": {
   "display_name": "Python 3",
   "language": "python",
   "name": "python3"
  },
  "language_info": {
   "codemirror_mode": {
    "name": "ipython",
    "version": 3
   },
   "file_extension": ".py",
   "mimetype": "text/x-python",
   "name": "python",
   "nbconvert_exporter": "python",
   "pygments_lexer": "ipython3",
   "version": "3.8.5"
  }
 },
 "nbformat": 4,
 "nbformat_minor": 1
}
